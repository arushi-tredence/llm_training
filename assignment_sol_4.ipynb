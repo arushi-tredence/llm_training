{
  "nbformat": 4,
  "nbformat_minor": 0,
  "metadata": {
    "colab": {
      "provenance": []
    },
    "kernelspec": {
      "name": "python3",
      "display_name": "Python 3"
    },
    "language_info": {
      "name": "python"
    }
  },
  "cells": [
    {
      "cell_type": "markdown",
      "source": [
        "### Installing Required Packages"
      ],
      "metadata": {
        "id": "W5FtyaIeIi1D"
      }
    },
    {
      "cell_type": "code",
      "source": [
        "# !pip install langchain-chroma\n",
        "# !pip install langchain-openai\n",
        "# !pip install --upgrade langchain-community"
      ],
      "metadata": {
        "id": "ZpuLpmMNFszJ"
      },
      "execution_count": 27,
      "outputs": []
    },
    {
      "cell_type": "markdown",
      "source": [
        "### Importing Required Libraries"
      ],
      "metadata": {
        "id": "K9hk0KYMIpFV"
      }
    },
    {
      "cell_type": "code",
      "execution_count": 28,
      "metadata": {
        "id": "U-aDwy0ME5sK"
      },
      "outputs": [],
      "source": [
        "from langchain_chroma import Chroma\n",
        "from langchain_community.example_selectors import NGramOverlapExampleSelector\n",
        "from langchain_core.prompts import FewShotPromptTemplate, PromptTemplate"
      ]
    },
    {
      "cell_type": "markdown",
      "source": [
        "### Defining Example Prompt and Example Input-Output Pairs"
      ],
      "metadata": {
        "id": "LKdHEXGlI4Rl"
      }
    },
    {
      "cell_type": "code",
      "source": [
        "example_prompt = PromptTemplate(\n",
        "    input_variables=[\"input\", \"output\"],\n",
        "    template=\"Input: {input}\\nOutput: {output}\",\n",
        ")\n",
        "\n",
        "# Examples of a fictional translation task.\n",
        "examples = [\n",
        "    {\"input\": \"See Spot run.\", \"output\": \"siehe Spotlauf.\"},\n",
        "    {\"input\": \"My dog barks.\", \"output\": \"mein Hund bellt.\"},\n",
        "    {\"input\": \"Spot can run.\", \"output\": \"SSpot kann laufen.\"},\n",
        "]"
      ],
      "metadata": {
        "id": "1WpNPkVDHHG4"
      },
      "execution_count": 29,
      "outputs": []
    },
    {
      "cell_type": "markdown",
      "source": [
        "### Creating an NGramOverlapExampleSelector Object"
      ],
      "metadata": {
        "id": "xSzjKa8YI7EN"
      }
    },
    {
      "cell_type": "code",
      "source": [
        "example_selector = NGramOverlapExampleSelector(\n",
        "    # The examples it has available to choose from.\n",
        "    examples=examples,\n",
        "    # The PromptTemplate being used to format the examples.\n",
        "    example_prompt=example_prompt,\n",
        "    # The threshold, at which selector stops.\n",
        "    # It is set to -1.0 by default.\n",
        "    threshold=-1.0,\n",
        "    # For negative threshold:\n",
        "    # Selector sorts examples by ngram overlap score, and excludes none.\n",
        "    # For threshold greater than 1.0:\n",
        "    # Selector excludes all examples, and returns an empty list.\n",
        "    # For threshold equal to 0.0:\n",
        "    # Selector sorts examples by ngram overlap score,\n",
        "    # and excludes those with no ngram overlap with input.\n",
        ")"
      ],
      "metadata": {
        "id": "n6cnWLSQI7dE"
      },
      "execution_count": 30,
      "outputs": []
    },
    {
      "cell_type": "markdown",
      "source": [
        "### Creating a FewShot Prompt Template"
      ],
      "metadata": {
        "id": "Yb2K8q6dJBOr"
      }
    },
    {
      "cell_type": "code",
      "source": [
        "dynamic_prompt = FewShotPromptTemplate(\n",
        "    # We provide an ExampleSelector instead of examples.\n",
        "    example_selector=example_selector,\n",
        "    example_prompt=example_prompt,\n",
        "    prefix=\"Give the Spanish translation of every input\",\n",
        "    suffix=\"Input: {sentence}\\nOutput:\",\n",
        "    input_variables=[\"sentence\"],\n",
        ")"
      ],
      "metadata": {
        "id": "b5-sdPY4F3xL"
      },
      "execution_count": 31,
      "outputs": []
    },
    {
      "cell_type": "markdown",
      "source": [
        "### Printing the Prompt"
      ],
      "metadata": {
        "id": "evBGwT5lJEOD"
      }
    },
    {
      "cell_type": "code",
      "source": [
        "print(dynamic_prompt.format(sentence=\"Spot can run really fast.\"))"
      ],
      "metadata": {
        "colab": {
          "base_uri": "https://localhost:8080/"
        },
        "id": "hGEWFpX1F57W",
        "outputId": "e4c7e660-03d9-4812-a90d-27217b04f5ba"
      },
      "execution_count": 32,
      "outputs": [
        {
          "output_type": "stream",
          "name": "stdout",
          "text": [
            "Give the Spanish translation of every input\n",
            "\n",
            "Input: Spot can run.\n",
            "Output: SSpot kann laufen.\n",
            "\n",
            "Input: See Spot run.\n",
            "Output: siehe Spotlauf.\n",
            "\n",
            "Input: My dog barks.\n",
            "Output: mein Hund bellt.\n",
            "\n",
            "Input: Spot can run really fast.\n",
            "Output:\n"
          ]
        }
      ]
    }
  ]
}